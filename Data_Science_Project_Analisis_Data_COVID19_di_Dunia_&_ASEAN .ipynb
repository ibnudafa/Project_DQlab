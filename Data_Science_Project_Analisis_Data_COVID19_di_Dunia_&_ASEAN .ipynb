{
  "nbformat": 4,
  "nbformat_minor": 0,
  "metadata": {
    "colab": {
      "name": "Data Science Project: Analisis Data COVID19 di Dunia & ASEAN.ipynb",
      "provenance": []
    },
    "kernelspec": {
      "name": "python3",
      "display_name": "Python 3"
    }
  },
  "cells": [
    {
      "cell_type": "code",
      "metadata": {
        "id": "D-DU6rFBpoap",
        "colab_type": "code",
        "colab": {}
      },
      "source": [
        "import json\n",
        "import numpy as np\n",
        "import pandas as pd\n",
        "import requests\n",
        "import matplotlib.pyplot as plt\n"
      ],
      "execution_count": 10,
      "outputs": []
    },
    {
      "cell_type": "markdown",
      "metadata": {
        "id": "QkdIO-qDqAgH",
        "colab_type": "text"
      },
      "source": [
        "membuat fungsi get API"
      ]
    },
    {
      "cell_type": "code",
      "metadata": {
        "id": "R3BXohuTppkU",
        "colab_type": "code",
        "colab": {}
      },
      "source": [
        "def get_json(api_url):\n",
        "    response = requests.get(api_url)\n",
        "    if response.status_code == 200:\n",
        "         return json.loads(response.content.decode('utf-8'))\n",
        "    else:\n",
        "        return None"
      ],
      "execution_count": 11,
      "outputs": []
    },
    {
      "cell_type": "markdown",
      "metadata": {
        "id": "dTJeNDPaqLJU",
        "colab_type": "text"
      },
      "source": [
        "ambil data covid19"
      ]
    },
    {
      "cell_type": "code",
      "metadata": {
        "id": "j8z5PLEepufv",
        "colab_type": "code",
        "colab": {
          "base_uri": "https://localhost:8080/",
          "height": 289
        },
        "outputId": "f7f0a906-9cdb-4328-8042-20829982a51a"
      },
      "source": [
        "record_date = '2020-08-17'\n",
        "covid_url = 'https://covid19-api.org/api/status?date='+record_date\n",
        "df_covid_worldwide = pd.io.json.json_normalize(get_json(covid_url))\n",
        "\n",
        "print(df_covid_worldwide)"
      ],
      "execution_count": 12,
      "outputs": [
        {
          "output_type": "stream",
          "text": [
            "    country          last_update    cases  deaths  recovered\n",
            "0        US  2020-08-16T23:27:50  5401167  170019    1833067\n",
            "1        BR  2020-08-16T23:27:50  3340197  107852    2655017\n",
            "2        IN  2020-08-16T23:27:50  2589682   49980    1862258\n",
            "3        RU  2020-08-16T23:27:50   920719   15653     731444\n",
            "4        ZA  2020-08-16T23:27:50   587345   11839     472377\n",
            "..      ...                  ...      ...     ...        ...\n",
            "201      GG  2020-03-17T18:33:03        0       0          0\n",
            "202      GL  2020-03-19T09:33:04        0       0          0\n",
            "203      GU  2020-03-18T19:14:33        0       0          0\n",
            "204      JE  2020-03-17T18:33:03        0       0          0\n",
            "205      PR  2020-03-17T16:13:14        0       0          0\n",
            "\n",
            "[206 rows x 5 columns]\n"
          ],
          "name": "stdout"
        },
        {
          "output_type": "stream",
          "text": [
            "/usr/local/lib/python3.6/dist-packages/ipykernel_launcher.py:3: FutureWarning: pandas.io.json.json_normalize is deprecated, use pandas.json_normalize instead\n",
            "  This is separate from the ipykernel package so we can avoid doing imports until\n"
          ],
          "name": "stderr"
        }
      ]
    },
    {
      "cell_type": "markdown",
      "metadata": {
        "id": "F08DhLnPqRGX",
        "colab_type": "text"
      },
      "source": [
        "merubah format date"
      ]
    },
    {
      "cell_type": "code",
      "metadata": {
        "id": "WA5IFtLupyUr",
        "colab_type": "code",
        "colab": {}
      },
      "source": [
        "df_covid_worldwide['last_update']=pd.to_datetime(df_covid_worldwide['last_update'],format ='%Y-%m-%d %H:%M:%S')\n",
        "df_covid_worldwide['last_update']=df_covid_worldwide['last_update'].apply(lambda x:x.date())                         "
      ],
      "execution_count": 13,
      "outputs": []
    },
    {
      "cell_type": "markdown",
      "metadata": {
        "id": "m8n2a-38qUWk",
        "colab_type": "text"
      },
      "source": [
        "ambil data country"
      ]
    },
    {
      "cell_type": "code",
      "metadata": {
        "id": "KSB0yeHEp2G-",
        "colab_type": "code",
        "colab": {
          "base_uri": "https://localhost:8080/",
          "height": 153
        },
        "outputId": "798ab0da-83f5-4cb4-9b8a-69c3f5cc08c5"
      },
      "source": [
        "countries_url = 'https://covid19-api.org/api/countries'\n",
        "df_countries = pd.io.json.json_normalize(get_json(countries_url))\n",
        "df_countries = df_countries.rename(columns={'alpha2': 'country'})[['name','country']]\n",
        "\n",
        "print(df_countries.head())"
      ],
      "execution_count": 14,
      "outputs": [
        {
          "output_type": "stream",
          "text": [
            "          name country\n",
            "0  Afghanistan      AF\n",
            "1      Albania      AL\n",
            "2      Algeria      DZ\n",
            "3      Andorra      AD\n",
            "4       Angola      AO\n"
          ],
          "name": "stdout"
        },
        {
          "output_type": "stream",
          "text": [
            "/usr/local/lib/python3.6/dist-packages/ipykernel_launcher.py:2: FutureWarning: pandas.io.json.json_normalize is deprecated, use pandas.json_normalize instead\n",
            "  \n"
          ],
          "name": "stderr"
        }
      ]
    },
    {
      "cell_type": "markdown",
      "metadata": {
        "id": "NWD7AgJMqYnJ",
        "colab_type": "text"
      },
      "source": [
        "mapping data covid dan data negara"
      ]
    },
    {
      "cell_type": "code",
      "metadata": {
        "id": "8Vfk4apHp6-e",
        "colab_type": "code",
        "colab": {
          "base_uri": "https://localhost:8080/",
          "height": 119
        },
        "outputId": "81378ced-90f7-4f51-d989-fe7c49733d18"
      },
      "source": [
        "df_covid_denormalized = pd.merge(df_covid_worldwide, df_countries, on='country')\n",
        "\n",
        "print(df_covid_denormalized.head())"
      ],
      "execution_count": 15,
      "outputs": [
        {
          "output_type": "stream",
          "text": [
            "  country last_update    cases  deaths  recovered                      name\n",
            "0      US  2020-08-16  5401167  170019    1833067  United States of America\n",
            "1      BR  2020-08-16  3340197  107852    2655017                    Brazil\n",
            "2      IN  2020-08-16  2589682   49980    1862258                     India\n",
            "3      RU  2020-08-16   920719   15653     731444        Russian Federation\n",
            "4      ZA  2020-08-16   587345   11839     472377              South Africa\n"
          ],
          "name": "stdout"
        }
      ]
    },
    {
      "cell_type": "markdown",
      "metadata": {
        "id": "9yZpLqP4sRfi",
        "colab_type": "text"
      },
      "source": [
        "fatality ratio"
      ]
    },
    {
      "cell_type": "code",
      "metadata": {
        "id": "c4gpVKtjsQKz",
        "colab_type": "code",
        "colab": {}
      },
      "source": [
        "df_covid_denormalized['fatality_ratio']= df_covid_denormalized['deaths']/df_covid_denormalized['cases']"
      ],
      "execution_count": 16,
      "outputs": []
    },
    {
      "cell_type": "markdown",
      "metadata": {
        "id": "XovSIbE9uXtj",
        "colab_type": "text"
      },
      "source": [
        "negara - negara fatality ratio tertinggi"
      ]
    },
    {
      "cell_type": "code",
      "metadata": {
        "id": "UmtwnVbWuQiX",
        "colab_type": "code",
        "colab": {}
      },
      "source": [
        "df_top_20_fatality_rate = df_covid_denormalized.sort_values(by='fatality_ratio', ascending=False).head(20)"
      ],
      "execution_count": 17,
      "outputs": []
    },
    {
      "cell_type": "markdown",
      "metadata": {
        "id": "snKy8MVdfL9B",
        "colab_type": "text"
      },
      "source": [
        "visualisasi negara dengan fatality ratio tertinggi"
      ]
    },
    {
      "cell_type": "code",
      "metadata": {
        "id": "1FVuPVHFfKX1",
        "colab_type": "code",
        "colab": {
          "base_uri": "https://localhost:8080/",
          "height": 510
        },
        "outputId": "ec26bb01-3393-43b8-be59-98d357db89e8"
      },
      "source": [
        "import matplotlib.pyplot as plt\n",
        "plt.figure(figsize=(20, 8))\n",
        "x = df_top_20_fatality_rate['name']\n",
        "y = df_top_20_fatality_rate['fatality_ratio']\n",
        "plt.bar(x,y)\n",
        "plt.xlabel('country name')\n",
        "plt.ylabel('fatality rate')\n",
        "plt.title('top 20 highest fatality rate countries')\n",
        "plt.xticks(rotation=90)\n",
        "plt.tight_layout()\n",
        "plt.show()"
      ],
      "execution_count": 37,
      "outputs": [
        {
          "output_type": "display_data",
          "data": {
            "image/png": "[encoded data removed]",
            "text/plain": [
              "<Figure size 1440x576 with 1 Axes>"
            ]
          },
          "metadata": {
            "tags": [],
            "needs_background": "light"
          }
        }
      ]
    },
    {
      "cell_type": "markdown",
      "metadata": {
        "id": "3-FUf9zWqLrB",
        "colab_type": "text"
      },
      "source": [
        "menggabungkan data frame"
      ]
    },
    {
      "cell_type": "code",
      "metadata": {
        "id": "irmzmQh_hlCL",
        "colab_type": "code",
        "colab": {
          "base_uri": "https://localhost:8080/",
          "height": 153
        },
        "outputId": "d1864853-74f7-4094-d555-656704d0e6e5"
      },
      "source": [
        "countries = ['ID','MY','SG','TH','VN']\n",
        "i = 0\n",
        "for country in countries:\n",
        "\tcovid_timeline_url = 'https://covid19-api.org/api/timeline/'+country\n",
        "\tdf_covid_timeline = pd.io.json.json_normalize(get_json(covid_timeline_url))\n",
        "\tdf_covid_timeline['last_update'] = pd.to_datetime(df_covid_timeline['last_update'], format='%Y-%m-%dT%H:%M:%S')\n",
        "\tdf_covid_timeline['last_update'] = df_covid_timeline['last_update'].apply(lambda x: x.date())\n",
        "\tif i==0:\n",
        "\t\tdf_covid_timeline_merged = df_covid_timeline\n",
        "\telse:\n",
        "\t\tdf_covid_timeline_merged = df_covid_timeline.append(df_covid_timeline_merged, ignore_index=True)\n",
        "\ti=i+1\n",
        "\n",
        "print(df_covid_timeline_merged.head())"
      ],
      "execution_count": 22,
      "outputs": [
        {
          "output_type": "stream",
          "text": [
            "/usr/local/lib/python3.6/dist-packages/ipykernel_launcher.py:5: FutureWarning: pandas.io.json.json_normalize is deprecated, use pandas.json_normalize instead\n",
            "  \"\"\"\n"
          ],
          "name": "stderr"
        },
        {
          "output_type": "stream",
          "text": [
            "  country last_update  cases  deaths  recovered\n",
            "0      VN  2020-08-31   1044      34        707\n",
            "1      VN  2020-08-30   1040      32        695\n",
            "2      VN  2020-08-29   1040      32        677\n",
            "3      VN  2020-08-28   1038      30        663\n",
            "4      VN  2020-08-27   1036      30        637\n"
          ],
          "name": "stdout"
        }
      ]
    },
    {
      "cell_type": "code",
      "metadata": {
        "id": "3uEe6xLOqQyD",
        "colab_type": "code",
        "colab": {}
      },
      "source": [
        ""
      ],
      "execution_count": null,
      "outputs": []
    },
    {
      "cell_type": "markdown",
      "metadata": {
        "id": "Ki1gX4i6rSqU",
        "colab_type": "text"
      },
      "source": [
        "menggabungkan df_covid_timeline_merged dengan df_countries dengan kolom 'country'"
      ]
    },
    {
      "cell_type": "code",
      "metadata": {
        "id": "9le1jFhKrbT0",
        "colab_type": "code",
        "colab": {}
      },
      "source": [
        "df_covid_timeline_denormalized = pd.merge(df_covid_timeline_merged, df_countries, on='country')"
      ],
      "execution_count": 24,
      "outputs": []
    },
    {
      "cell_type": "markdown",
      "metadata": {
        "id": "YTuScJvAsheU",
        "colab_type": "text"
      },
      "source": [
        "kasus covid-19 di ASEAN pada bulan maret 2020"
      ]
    },
    {
      "cell_type": "code",
      "metadata": {
        "id": "1Jz6KmEirxgQ",
        "colab_type": "code",
        "colab": {}
      },
      "source": [
        "import datetime\n",
        "\n",
        "df_covid_timeline_denormalized = df_covid_timeline_denormalized[(df_covid_timeline_denormalized['last_update'] >= datetime.date(2020,3,1))]"
      ],
      "execution_count": 26,
      "outputs": []
    },
    {
      "cell_type": "code",
      "metadata": {
        "id": "Yae24IepvBSL",
        "colab_type": "code",
        "colab": {}
      },
      "source": [
        ""
      ],
      "execution_count": null,
      "outputs": []
    },
    {
      "cell_type": "markdown",
      "metadata": {
        "id": "q3y_gO5fvDOa",
        "colab_type": "text"
      },
      "source": [
        "visualisasi kasus covid-19 di ASEAN"
      ]
    },
    {
      "cell_type": "code",
      "metadata": {
        "id": "daspxJ81vKZl",
        "colab_type": "code",
        "colab": {
          "base_uri": "https://localhost:8080/",
          "height": 295
        },
        "outputId": "00bf0f37-3439-4661-d189-ed4876a8c788"
      },
      "source": [
        "import matplotlib.pyplot as plt\n",
        "plt.clf()\n",
        "countries = ['ID','MY','SG','TH','VN']\n",
        "for country in countries:\n",
        "  country_data = df_covid_timeline_denormalized['country'] == country\n",
        "  x = df_covid_timeline_denormalized[country_data]['last_update']\n",
        "  y = df_covid_timeline_denormalized[country_data]['cases']\n",
        "  plt.plot(x, y, label = country)\n",
        "\n",
        "plt.legend()\n",
        "plt.xlabel('record date')\n",
        "plt.ylabel('total cases')\n",
        "plt.title('asean covid19 cases comparison')\n",
        "plt.show()"
      ],
      "execution_count": 42,
      "outputs": [
        {
          "output_type": "display_data",
          "data": {
            "image/png": "[encoded data removed]",
            "text/plain": [
              "<Figure size 432x288 with 1 Axes>"
            ]
          },
          "metadata": {
            "tags": [],
            "needs_background": "light"
          }
        }
      ]
    },
    {
      "cell_type": "code",
      "metadata": {
        "id": "-16y9Gr64Vx8",
        "colab_type": "code",
        "colab": {
          "base_uri": "https://localhost:8080/",
          "height": 295
        },
        "outputId": "cf4268a6-6957-47ee-d761-4260f18e0a68"
      },
      "source": [
        "import matplotlib.pyplot as plt\n",
        "plt.clf()\n",
        "countries = ['ID']\n",
        "for country in countries:\n",
        "  country_data = df_covid_timeline_denormalized['country'] == country\n",
        "  x = df_covid_timeline_denormalized[country_data]['last_update']\n",
        "  y = df_covid_timeline_denormalized[country_data]['cases']\n",
        "  plt.plot(x, y, label = country)\n",
        "\n",
        "plt.legend()\n",
        "plt.xlabel('record date')\n",
        "plt.ylabel('total cases')\n",
        "plt.title('Indonesia')\n",
        "plt.show()"
      ],
      "execution_count": 40,
      "outputs": [
        {
          "output_type": "display_data",
          "data": {
            "image/png": "[encoded data removed]",
            "text/plain": [
              "<Figure size 432x288 with 1 Axes>"
            ]
          },
          "metadata": {
            "tags": [],
            "needs_background": "light"
          }
        }
      ]
    }
  ]
}